{
 "cells": [
  {
   "cell_type": "code",
   "execution_count": 29,
   "id": "580386e0",
   "metadata": {},
   "outputs": [],
   "source": [
    "import numpy\n",
    "import matplotlib.pyplot as plt\n",
    "from pandas import read_csv\n",
    "import math\n",
    "from keras.models import Sequential\n",
    "from keras.layers import Dense\n",
    "from keras.layers import LSTM\n",
    "from sklearn.preprocessing import MinMaxScaler\n",
    "from sklearn.metrics import mean_squared_error\n",
    "from numpy import array\n",
    "from numpy import hstack\n",
    "from keras.models import Sequential\n",
    "from keras.layers import LSTM\n",
    "from keras.layers import Dense\n",
    "from keras.layers import RepeatVector\n",
    "from keras.layers import TimeDistributed"
   ]
  },
  {
   "cell_type": "code",
   "execution_count": 30,
   "id": "4601de55",
   "metadata": {},
   "outputs": [],
   "source": [
    "# Some functions to help out with\n",
    "def plot_predictions(test,predicted):\n",
    "    plt.plot(test, color='red',label='Real Indicator VALUE')\n",
    "    plt.plot(predicted, color='blue',label='Predicted INDICATOR VALUE')\n",
    "    plt.title('Indicator Prediction')\n",
    "    plt.xlabel('Time-not real time in fact')\n",
    "    plt.ylabel('Indicator real value')\n",
    "    plt.legend()\n",
    "    plt.show()\n",
    "\n",
    "def return_rmse(test,predicted):\n",
    "    rmse = math.sqrt(mean_squared_error(test, predicted))\n",
    "    print(\"The root mean squared error is {}.\".format(rmse))"
   ]
  },
  {
   "cell_type": "code",
   "execution_count": 31,
   "id": "e571e07c",
   "metadata": {},
   "outputs": [],
   "source": [
    "#!pip install statsmodels\n",
    "\n",
    "from statsmodels.tsa.statespace.varmax import VARMAX\n",
    "from random import random\n",
    "import pandas as pd \n",
    "import numpy as np\n",
    "import warnings\n",
    "import matplotlib.pyplot as plt\n",
    "\n",
    "warnings.simplefilter('ignore')\n",
    "\n",
    "# Common code for display result\n",
    "def show_graph(df1,df2,title):\n",
    "    data = pd.concat([df1, df2])\n",
    "    data.reset_index(inplace=True, drop=True)\n",
    "    for col in data.columns:\n",
    "        if col.lower().startswith('pred'):\n",
    "            data[col].plot(label=col,linestyle=\"dotted\")\n",
    "        else:\n",
    "            data[col].plot(label=col)\n",
    "    #plt.title(title)\n",
    "   # plt.legend()\n",
    "    plt.show()\n",
    "\n",
    "import pandas as pd\n",
    "import numpy as np\n",
    "import xgboost as xgb\n",
    "from sklearn.model_selection import train_test_split\n",
    "user='alexandrudaia'\n",
    "pass_='invoicecash'\n",
    "import mysql.connector as m\n",
    "connection = m.connect(host='127.0.0.1', user=user,\n",
    "                       password=pass_, database='MYSQL')\n",
    "cursor = connection.cursor()\n",
    "  \n",
    "# Getting all the table names\n",
    "cursor.execute('SHOW TABLES;')\n",
    "table_names = []\n",
    "for record in cursor.fetchall():\n",
    "    table_names.append(record[0])\n",
    "cursor = connection.cursor(buffered=True)\n",
    "\n",
    "cursor.execute(\"SELECT * FROM db_mfinante_fin_test WHERE reg_number=43480468\")\n",
    "\n",
    "myresult = cursor.fetchall()\n",
    "\n",
    "#for x in myresult:\n",
    "#  print(x)\n",
    "num_fields = len(cursor.description)\n",
    "field_names = [i[0] for i in cursor.description]"
   ]
  },
  {
   "cell_type": "code",
   "execution_count": 32,
   "id": "51f56883",
   "metadata": {},
   "outputs": [],
   "source": [
    "cursor = connection.cursor(buffered=True)\n",
    "\n",
    "cursor.execute(\"SELECT * FROM db_mfinante_fin_test\")\n",
    "\n",
    "myresult = cursor.fetchall()\n",
    "\n",
    "#for x in myresult:\n",
    "#  print(x)"
   ]
  },
  {
   "cell_type": "code",
   "execution_count": 33,
   "id": "af2ef08d",
   "metadata": {},
   "outputs": [],
   "source": [
    "train=pd.DataFrame(myresult, columns=field_names)\n",
    "cursor = connection.cursor(buffered=True)\n",
    "\n",
    "cursor.execute(\"SELECT * FROM db_mfinante_company_2021\")\n",
    "\n",
    "myresult = cursor.fetchall()\n",
    "\n",
    "#for x in myresult:\n",
    "#  print(x)\n",
    "num_fields = len(cursor.description)\n",
    "field_names = [i[0] for i in cursor.description]\n",
    "train_second=pd.DataFrame(myresult, columns=field_names)\n",
    "data=train.merge(train_second, on='reg_number',how='left')"
   ]
  },
  {
   "cell_type": "code",
   "execution_count": 34,
   "id": "59b59bb1",
   "metadata": {},
   "outputs": [],
   "source": [
    "del train \n",
    "del train_second \n",
    "del myresult\n",
    "del cursor"
   ]
  },
  {
   "cell_type": "code",
   "execution_count": 35,
   "id": "32eb9f95",
   "metadata": {},
   "outputs": [],
   "source": [
    "cols=[ 'year','nace_division','noncurrent_assets','current_assets','inventories','receivables'\n",
    "      ,'cash_and_bank','prepaid_expenses','payables','advance_payments',\n",
    "      'share_capital','state_owned_capital','net_turnover','total_income','total_expenses',\n",
    "      'gross_profit_or_loss','net_profit_or_loss','employee_count'\n",
    "      ,'publish','year_registered','year_inactive','year_fin_last_submitted','legal_status_valid','reg_number']"
   ]
  },
  {
   "cell_type": "code",
   "execution_count": 36,
   "id": "c15d19bd",
   "metadata": {},
   "outputs": [],
   "source": [
    "#get only the ones where there is no inactive years \n",
    "data = data[data['year_inactive'].isna()]\n",
    "data=data[cols]"
   ]
  },
  {
   "cell_type": "code",
   "execution_count": 37,
   "id": "edda603b",
   "metadata": {},
   "outputs": [],
   "source": [
    "data=data.drop(['inventories',  'noncurrent_assets'],axis=1)\n",
    "data= data.drop(['gross_profit_or_loss', 'legal_status_valid', 'publish', 'total_expenses'],axis=1)\n",
    "data=data.drop(['nace_division', 'year_registered','year_inactive','year_fin_last_submitted'],axis=1)"
   ]
  },
  {
   "cell_type": "code",
   "execution_count": 38,
   "id": "66b82c93",
   "metadata": {},
   "outputs": [
    {
     "name": "stdout",
     "output_type": "stream",
     "text": [
      "year\n",
      "current_assets\n",
      "receivables\n",
      "cash_and_bank\n",
      "prepaid_expenses\n",
      "payables\n",
      "advance_payments\n",
      "share_capital\n",
      "state_owned_capital\n",
      "net_turnover\n",
      "total_income\n",
      "net_profit_or_loss\n",
      "employee_count\n",
      "reg_number\n"
     ]
    }
   ],
   "source": [
    "#filling nans with mean by company\n",
    "for col in  data.columns :\n",
    "    print(col )\n",
    "    if col not in ['reg_number']:\n",
    "        data[col] = data[col].fillna(data.groupby('reg_number')[col].transform('mean'))"
   ]
  },
  {
   "cell_type": "code",
   "execution_count": 39,
   "id": "97a72837",
   "metadata": {},
   "outputs": [
    {
     "data": {
      "text/plain": [
       "(7361989, 14)"
      ]
     },
     "execution_count": 39,
     "metadata": {},
     "output_type": "execute_result"
    }
   ],
   "source": [
    "data.shape"
   ]
  },
  {
   "cell_type": "code",
   "execution_count": 40,
   "id": "3f04a0bb",
   "metadata": {},
   "outputs": [
    {
     "data": {
      "text/plain": [
       "(782506, 14)"
      ]
     },
     "execution_count": 40,
     "metadata": {},
     "output_type": "execute_result"
    }
   ],
   "source": [
    "#toti care au 2020 \n",
    "df=data.query(\"year==2020\")\n",
    "df=df.reset_index(inplace=False)\n",
    "df.head()\n",
    "df=df.drop('index',axis=1)\n",
    "df.shape"
   ]
  },
  {
   "cell_type": "code",
   "execution_count": 41,
   "id": "33d0f1e0",
   "metadata": {},
   "outputs": [],
   "source": [
    "#toti care au year 2020 mai pot avea si alt year mai mic deci subsetam dupa id-urile care au cu siguranta 2020\n",
    "all_with_2020=data[data.reg_number.isin(list(df['reg_number']))]"
   ]
  },
  {
   "cell_type": "code",
   "execution_count": 42,
   "id": "ac876fc8",
   "metadata": {},
   "outputs": [
    {
     "data": {
      "text/plain": [
       "(5949793, 14)"
      ]
     },
     "execution_count": 42,
     "metadata": {},
     "output_type": "execute_result"
    }
   ],
   "source": [
    "all_with_2020.shape"
   ]
  },
  {
   "cell_type": "code",
   "execution_count": 43,
   "id": "11ec007d",
   "metadata": {},
   "outputs": [],
   "source": [
    "#all_with_2020=all_with_2020.drop('state_owned_capital',axis=1)"
   ]
  },
  {
   "cell_type": "code",
   "execution_count": 44,
   "id": "41385175",
   "metadata": {},
   "outputs": [],
   "source": [
    "#y=all_with_2020['receivables']"
   ]
  },
  {
   "cell_type": "code",
   "execution_count": 45,
   "id": "81cee4dd",
   "metadata": {},
   "outputs": [],
   "source": [
    "#X=all_with_2020.drop('receivables',axis=1)"
   ]
  },
  {
   "cell_type": "code",
   "execution_count": 110,
   "id": "e82638c9",
   "metadata": {},
   "outputs": [],
   "source": [
    "import numpy as np\n",
    "import matplotlib.pyplot as plt\n",
    "plt.style.use('fivethirtyeight')\n",
    "import pandas as pd\n",
    "from sklearn.preprocessing import MinMaxScaler\n",
    "from keras.models import Sequential\n",
    "from keras.layers import Dense, LSTM, Dropout, GRU, Bidirectional\n",
    "from keras.optimizers import SGD\n",
    "import math\n",
    "from sklearn.metrics import mean_squared_error"
   ]
  },
  {
   "cell_type": "code",
   "execution_count": null,
   "id": "e69c50a3",
   "metadata": {},
   "outputs": [],
   "source": [
    " "
   ]
  },
  {
   "cell_type": "code",
   "execution_count": 47,
   "id": "9c19d4c3",
   "metadata": {},
   "outputs": [
    {
     "name": "stdout",
     "output_type": "stream",
     "text": [
      "5167287\n"
     ]
    }
   ],
   "source": [
    "training_set=all_with_2020[:(all_with_2020.shape[0]-df.shape[0])]\n",
    "print(training_set.shape[0])"
   ]
  },
  {
   "cell_type": "code",
   "execution_count": 48,
   "id": "6f25bdb7",
   "metadata": {},
   "outputs": [
    {
     "name": "stdout",
     "output_type": "stream",
     "text": [
      "(782506, 14)\n"
     ]
    }
   ],
   "source": [
    "test_set=all_with_2020[(all_with_2020.shape[0]-df.shape[0]):]\n",
    "print(test_set.shape)"
   ]
  },
  {
   "cell_type": "code",
   "execution_count": 49,
   "id": "830d4b41",
   "metadata": {},
   "outputs": [
    {
     "data": {
      "image/png": "[encoded data removed]",
      "text/plain": [
       "<Figure size 1152x288 with 1 Axes>"
      ]
     },
     "metadata": {},
     "output_type": "display_data"
    }
   ],
   "source": [
    " \n",
    "training_set['receivables'].plot(figsize=(16,4),legend=True)\n",
    "test_set['receivables'].plot(figsize=(16,4),legend=True)\n",
    "plt.legend(['Training set pana in 2020','Test set 2020 pentru 2021'])\n",
    "plt.title('receivables')\n",
    "plt.show()\n"
   ]
  },
  {
   "cell_type": "code",
   "execution_count": 50,
   "id": "3ca7f165",
   "metadata": {},
   "outputs": [
    {
     "name": "stdout",
     "output_type": "stream",
     "text": [
      "500000\n",
      "1000000\n",
      "1500000\n",
      "2000000\n",
      "2500000\n",
      "3000000\n",
      "3500000\n",
      "4000000\n",
      "4500000\n",
      "5000000\n"
     ]
    }
   ],
   "source": [
    "X_train = []\n",
    "y_train = []\n",
    "temp_train=training_set.drop(['reg_number','receivables'],axis=1)\n",
    "for i in range(3,training_set.shape[0]):\n",
    "    if i%500000==0:\n",
    "        print(i)\n",
    "    \n",
    "    X_train.append(temp_train[i-3:i-1])\n",
    "    y_train.append(training_set['receivables'].iloc[i])\n",
    "#X_train, y_train = np.array(X_train), np.array(y_train)"
   ]
  },
  {
   "cell_type": "code",
   "execution_count": 51,
   "id": "001141a0",
   "metadata": {},
   "outputs": [],
   "source": [
    "del training_set \n",
    "del df \n",
    "del all_with_2020\n",
    "del data\n",
    "del temp_train"
   ]
  },
  {
   "cell_type": "code",
   "execution_count": 52,
   "id": "6454c626",
   "metadata": {},
   "outputs": [],
   "source": [
    "X_train=np.array(X_train)"
   ]
  },
  {
   "cell_type": "code",
   "execution_count": 74,
   "id": "7accd45a",
   "metadata": {},
   "outputs": [
    {
     "data": {
      "text/plain": [
       "(5167284, 2, 12)"
      ]
     },
     "execution_count": 74,
     "metadata": {},
     "output_type": "execute_result"
    }
   ],
   "source": [
    "X_train.shape"
   ]
  },
  {
   "cell_type": "code",
   "execution_count": 54,
   "id": "1462a2a3",
   "metadata": {},
   "outputs": [],
   "source": [
    "y_train=np.array(y_train)"
   ]
  },
  {
   "cell_type": "code",
   "execution_count": 86,
   "id": "b976d4cf",
   "metadata": {},
   "outputs": [],
   "source": [
    " from keras import backend as K\n",
    "def root_mean_squared_error(y_true, y_pred):\n",
    "    return K.abs(K.sqrt(K.mean(K.square(y_pred - y_true), axis=-1)))"
   ]
  },
  {
   "cell_type": "code",
   "execution_count": 90,
   "id": "bbaeb1c8",
   "metadata": {},
   "outputs": [],
   "source": [
    "X_train=np.nan_to_num(X_train)"
   ]
  },
  {
   "cell_type": "code",
   "execution_count": 92,
   "id": "c0a01513",
   "metadata": {},
   "outputs": [],
   "source": [
    "y_train=np.nan_to_num(y_train)"
   ]
  },
  {
   "cell_type": "code",
   "execution_count": 70,
   "id": "9fa3204d",
   "metadata": {},
   "outputs": [],
   "source": [
    "X_train = np.reshape(X_train, (X_train.shape[0],X_train.shape[1],12))"
   ]
  },
  {
   "cell_type": "code",
   "execution_count": 102,
   "id": "998cf8cd",
   "metadata": {},
   "outputs": [],
   "source": [
    "#! pip uninstall tensorflow\n"
   ]
  },
  {
   "cell_type": "code",
   "execution_count": null,
   "id": "95404912",
   "metadata": {},
   "outputs": [],
   "source": [
    "#! pip install tensorflow-gpu"
   ]
  },
  {
   "cell_type": "code",
   "execution_count": 104,
   "id": "8da042cc",
   "metadata": {},
   "outputs": [
    {
     "name": "stdout",
     "output_type": "stream",
     "text": [
      "Epoch 1/2\n",
      "161478/161478 [==============================] - 769s 5ms/step - loss: 615516.6250\n",
      "Epoch 2/2\n",
      "161478/161478 [==============================] - 762s 5ms/step - loss: 614245.6875\n"
     ]
    },
    {
     "data": {
      "text/plain": [
       "<keras.callbacks.History at 0x211966135b0>"
      ]
     },
     "execution_count": 104,
     "metadata": {},
     "output_type": "execute_result"
    }
   ],
   "source": [
    "# The LSTM architecture\n",
    "regressor = Sequential()\n",
    "# First LSTM layer with Dropout regularisation\n",
    "regressor.add(LSTM(units=50, return_sequences=True, input_shape=(X_train.shape[1],12)))\n",
    "regressor.add(Dropout(0.2))\n",
    "# Second LSTM layer\n",
    "regressor.add(LSTM(units=50, return_sequences=True))\n",
    "regressor.add(Dropout(0.2))\n",
    "# Third LSTM layer\n",
    "regressor.add(LSTM(units=50, return_sequences=True))\n",
    "regressor.add(Dropout(0.2))\n",
    "# Fourth LSTM layer\n",
    "regressor.add(LSTM(units=50))\n",
    "regressor.add(Dropout(0.2))\n",
    "# The output layer\n",
    "regressor.add(Dense(units=1))\n",
    "\n",
    "# Compiling the RNN\n",
    "regressor.compile(optimizer='rmsprop',loss=root_mean_squared_error)\n",
    "# Fitting to the training set\n",
    "regressor.fit(X_train,y_train,epochs=2,batch_size=32)"
   ]
  },
  {
   "cell_type": "code",
   "execution_count": 106,
   "id": "4a0e6573",
   "metadata": {},
   "outputs": [
    {
     "name": "stdout",
     "output_type": "stream",
     "text": [
      "161478/161478 [==============================] - 253s 2ms/step\n"
     ]
    }
   ],
   "source": [
    "pred=regressor.predict(X_train)"
   ]
  },
  {
   "cell_type": "code",
   "execution_count": 111,
   "id": "8ecf5143",
   "metadata": {},
   "outputs": [
    {
     "data": {
      "text/plain": [
       "198026980742167.9"
      ]
     },
     "execution_count": 111,
     "metadata": {},
     "output_type": "execute_result"
    }
   ],
   "source": [
    "mean_squared_error(pred,y_train)"
   ]
  },
  {
   "cell_type": "code",
   "execution_count": null,
   "id": "c34a5b13",
   "metadata": {},
   "outputs": [],
   "source": [
    " "
   ]
  },
  {
   "cell_type": "code",
   "execution_count": 109,
   "id": "80dbea47",
   "metadata": {},
   "outputs": [
    {
     "data": {
      "text/plain": [
       "(5167284,)"
      ]
     },
     "execution_count": 109,
     "metadata": {},
     "output_type": "execute_result"
    }
   ],
   "source": [
    "y_train.shape"
   ]
  },
  {
   "cell_type": "code",
   "execution_count": null,
   "id": "2b1db2a3",
   "metadata": {},
   "outputs": [],
   "source": []
  }
 ],
 "metadata": {
  "kernelspec": {
   "display_name": "Python 3 (ipykernel)",
   "language": "python",
   "name": "python3"
  },
  "language_info": {
   "codemirror_mode": {
    "name": "ipython",
    "version": 3
   },
   "file_extension": ".py",
   "mimetype": "text/x-python",
   "name": "python",
   "nbconvert_exporter": "python",
   "pygments_lexer": "ipython3",
   "version": "3.10.4"
  }
 },
 "nbformat": 4,
 "nbformat_minor": 5
}
